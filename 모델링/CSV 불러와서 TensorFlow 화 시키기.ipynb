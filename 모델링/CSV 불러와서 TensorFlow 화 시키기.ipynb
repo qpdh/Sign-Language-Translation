{
 "cells": [
  {
   "cell_type": "markdown",
   "id": "eb02faa7",
   "metadata": {},
   "source": [
    "# import"
   ]
  },
  {
   "cell_type": "code",
   "execution_count": 1,
   "id": "03cfb4ee",
   "metadata": {},
   "outputs": [],
   "source": [
    "import functools\n",
    "\n",
    "import numpy as np\n",
    "\n",
    "import pandas as pd\n",
    "\n",
    "import tensorflow as tf\n",
    "\n",
    "from sklearn.model_selection import train_test_split"
   ]
  },
  {
   "cell_type": "markdown",
   "id": "6a5ed1b7",
   "metadata": {},
   "source": [
    "# 비율 나누기"
   ]
  },
  {
   "cell_type": "code",
   "execution_count": 2,
   "id": "871a40c2",
   "metadata": {},
   "outputs": [],
   "source": [
    "TRAIN_DATA_URL = './output.csv'\n",
    "\n",
    "data = pd.read_csv(TRAIN_DATA_URL)"
   ]
  },
  {
   "cell_type": "markdown",
   "id": "b4d87be3",
   "metadata": {},
   "source": [
    "# 정규화"
   ]
  },
  {
   "cell_type": "markdown",
   "id": "51b15fb4",
   "metadata": {},
   "source": [
    "## 데이터 확인"
   ]
  },
  {
   "cell_type": "code",
   "execution_count": 3,
   "id": "dab85457",
   "metadata": {
    "scrolled": false
   },
   "outputs": [],
   "source": [
    "desc = data['0_x'].describe()"
   ]
  },
  {
   "cell_type": "code",
   "execution_count": 4,
   "id": "b0634ebc",
   "metadata": {},
   "outputs": [
    {
     "name": "stdout",
     "output_type": "stream",
     "text": [
      "0.49587873605861366 0.06815192050462648\n"
     ]
    }
   ],
   "source": [
    "MEAN = np.array(desc.T['mean'])\n",
    "STD = np.array(desc.T['std'])\n",
    "\n",
    "print(MEAN, STD)"
   ]
  },
  {
   "cell_type": "markdown",
   "id": "b2163727",
   "metadata": {},
   "source": [
    "정규화 하기  \n",
    "(X-m)/std"
   ]
  },
  {
   "cell_type": "code",
   "execution_count": 5,
   "id": "bf5fe092",
   "metadata": {},
   "outputs": [],
   "source": [
    "def normalize_numeric_data(data, mean, std):\n",
    "    return (data-mean)/std"
   ]
  },
  {
   "cell_type": "code",
   "execution_count": 6,
   "id": "d1094579",
   "metadata": {
    "scrolled": true
   },
   "outputs": [],
   "source": [
    "# normalizer = functools.partial(normalize_numeric_data, mean=MEAN, std=STD)\n",
    "\n",
    "# numerric_column = tf.feature_column.numeric_column('numeric',normalizer_fn=normalizer, shape=[len(NUMBERIC_FEATURES)])\n",
    "# numeric_columns = [numerric_column]\n",
    "# numeric_column"
   ]
  },
  {
   "cell_type": "code",
   "execution_count": 7,
   "id": "425ba42d",
   "metadata": {
    "scrolled": true
   },
   "outputs": [],
   "source": [
    "numpy_data = np.array(data)"
   ]
  },
  {
   "cell_type": "markdown",
   "id": "e9445e8c",
   "metadata": {},
   "source": [
    "## 훈련 데이터, 테스트 데이터 분리"
   ]
  },
  {
   "cell_type": "code",
   "execution_count": 8,
   "id": "0f6daf72",
   "metadata": {},
   "outputs": [],
   "source": [
    "data_train, data_test = train_test_split(data, \n",
    "                 test_size=3/10,\n",
    "                stratify=data['target'],\n",
    "                random_state=20210918)"
   ]
  },
  {
   "cell_type": "code",
   "execution_count": 9,
   "id": "cf6edf6a",
   "metadata": {
    "scrolled": false
   },
   "outputs": [],
   "source": [
    "# np.unique(data_train['target'],return_counts=True)\n",
    "# np.unique(data_test['target'],return_counts=True)"
   ]
  },
  {
   "cell_type": "markdown",
   "id": "2fe082ef",
   "metadata": {},
   "source": [
    "## 결과값 분리\n",
    "### 타겟 분리\n",
    "### 0번째 열 제거"
   ]
  },
  {
   "cell_type": "code",
   "execution_count": 10,
   "id": "bd0e4a85",
   "metadata": {},
   "outputs": [
    {
     "data": {
      "text/plain": [
       "1004    1004\n",
       "688      688\n",
       "0          0\n",
       "817      817\n",
       "385      385\n",
       "        ... \n",
       "109      109\n",
       "905      905\n",
       "162      162\n",
       "955      955\n",
       "738      738\n",
       "Name: Unnamed: 0, Length: 109, dtype: int64"
      ]
     },
     "execution_count": 10,
     "metadata": {},
     "output_type": "execute_result"
    }
   ],
   "source": [
    "target_train = data_train.pop('target')\n",
    "target_test = data_test.pop('target')\n",
    "\n",
    "data_train.pop('Unnamed: 0')\n",
    "data_test.pop('Unnamed: 0')"
   ]
  },
  {
   "cell_type": "code",
   "execution_count": 11,
   "id": "9135d414",
   "metadata": {},
   "outputs": [
    {
     "data": {
      "text/plain": [
       "Index(['0_x', '0_y', '0_z', '1_x', '1_y', '1_z', '2_x', '2_y', '2_z', '3_x',\n",
       "       '3_y', '3_z', '4_x', '4_y', '4_z', '5_x', '5_y', '5_z', '6_x', '6_y',\n",
       "       '6_z', '7_x', '7_y', '7_z', '8_x', '8_y', '8_z', '9_x', '9_y', '9_z',\n",
       "       '10_x', '10_y', '10_z', '11_x', '11_y', '11_z', '12_x', '12_y', '12_z',\n",
       "       '13_x', '13_y', '13_z', '14_x', '14_y', '14_z', '15_x', '15_y', '15_z',\n",
       "       '16_x', '16_y', '16_z', '17_x', '17_y', '17_z', '18_x', '18_y', '18_z',\n",
       "       '19_x', '19_y', '19_z', '20_x', '20_y', '20_z'],\n",
       "      dtype='object')"
      ]
     },
     "execution_count": 11,
     "metadata": {},
     "output_type": "execute_result"
    }
   ],
   "source": [
    "data_train.columns"
   ]
  },
  {
   "cell_type": "markdown",
   "id": "661db394",
   "metadata": {},
   "source": [
    "## 데이터셋 생성"
   ]
  },
  {
   "cell_type": "code",
   "execution_count": 12,
   "id": "1e8b0d79",
   "metadata": {},
   "outputs": [],
   "source": [
    "# dataset_train = tf.data.Dataset.from_tensor_slices((data_train.values, target_train.values))\n",
    "# dataset_test = tf.data.Dataset.from_tensor_slices((data_test.values, target_test.values))"
   ]
  },
  {
   "cell_type": "markdown",
   "id": "79245dda",
   "metadata": {},
   "source": [
    "## 데이터 세트 사용하기\n",
    "### 데이터세트 셔플 및 배치"
   ]
  },
  {
   "cell_type": "code",
   "execution_count": 13,
   "id": "6fcb6bc8",
   "metadata": {},
   "outputs": [],
   "source": [
    "# BATCH_SIZE = 100\n",
    "# SUFFLE_BUFFER_SIZE = 1\n",
    "\n",
    "# dataset_train = dataset_train.shuffle(SUFFLE_BUFFER_SIZE).batch(BATCH_SIZE)\n",
    "# dataset_test = dataset_test.shuffle(SUFFLE_BUFFER_SIZE).batch(BATCH_SIZE)"
   ]
  },
  {
   "cell_type": "markdown",
   "id": "05ae363e",
   "metadata": {},
   "source": [
    "# 모델 생성"
   ]
  },
  {
   "cell_type": "code",
   "execution_count": 14,
   "id": "2ecbef88",
   "metadata": {},
   "outputs": [],
   "source": [
    "def get_compiled_model():\n",
    "    model = tf.keras.Sequential([\n",
    "        tf.keras.layers.Dense(10, activation='relu'),\n",
    "        tf.keras.layers.Dense(10, activation='relu'),\n",
    "        tf.keras.layers.Dense(1)\n",
    "    ])\n",
    "\n",
    "    model.compile(optimizer='adam',\n",
    "                 loss=tf.keras.losses.BinaryCrossentropy(from_logits=True),\n",
    "                 metrics=['accuracy'])\n",
    "    return model\n",
    "\n",
    "input_layer = tf.keras.Input(shape=(63,),name=\"InputLayer\")\n",
    "x5 = tf.keras.layers.Dense(10,activation=\"softmax\",name=\"OutputLayer\")(input_layer)\n",
    "\n",
    "def get_compiled_model2():\n",
    "    model = tf.keras.Model(inputs=input_layer,outputs=x5,name=\"FunctionalModel\")\n",
    "    return model"
   ]
  },
  {
   "cell_type": "code",
   "execution_count": 15,
   "id": "75c6ee12",
   "metadata": {
    "scrolled": true
   },
   "outputs": [
    {
     "name": "stdout",
     "output_type": "stream",
     "text": [
      "Model: \"FunctionalModel\"\n",
      "_________________________________________________________________\n",
      "Layer (type)                 Output Shape              Param #   \n",
      "=================================================================\n",
      "InputLayer (InputLayer)      [(None, 63)]              0         \n",
      "_________________________________________________________________\n",
      "OutputLayer (Dense)          (None, 10)                640       \n",
      "=================================================================\n",
      "Total params: 640\n",
      "Trainable params: 640\n",
      "Non-trainable params: 0\n",
      "_________________________________________________________________\n",
      "Epoch 1/100\n",
      "31/31 [==============================] - 0s 565us/step - loss: 2.3323 - accuracy: 0.0895\n",
      "Epoch 2/100\n",
      "31/31 [==============================] - 0s 565us/step - loss: 2.3044 - accuracy: 0.0895\n",
      "Epoch 3/100\n",
      "31/31 [==============================] - 0s 562us/step - loss: 2.3014 - accuracy: 0.1080\n",
      "Epoch 4/100\n",
      "31/31 [==============================] - 0s 565us/step - loss: 2.2991 - accuracy: 0.1060\n",
      "Epoch 5/100\n",
      "31/31 [==============================] - 0s 557us/step - loss: 2.2986 - accuracy: 0.1060\n",
      "Epoch 6/100\n",
      "31/31 [==============================] - 0s 565us/step - loss: 2.2968 - accuracy: 0.1008\n",
      "Epoch 7/100\n",
      "31/31 [==============================] - 0s 698us/step - loss: 2.2961 - accuracy: 0.1132\n",
      "Epoch 8/100\n",
      "31/31 [==============================] - 0s 546us/step - loss: 2.2939 - accuracy: 0.1204\n",
      "Epoch 9/100\n",
      "31/31 [==============================] - 0s 532us/step - loss: 2.2926 - accuracy: 0.1173\n",
      "Epoch 10/100\n",
      "31/31 [==============================] - 0s 499us/step - loss: 2.2914 - accuracy: 0.1132\n",
      "Epoch 11/100\n",
      "31/31 [==============================] - 0s 465us/step - loss: 2.2898 - accuracy: 0.1152\n",
      "Epoch 12/100\n",
      "31/31 [==============================] - 0s 493us/step - loss: 2.2885 - accuracy: 0.1265\n",
      "Epoch 13/100\n",
      "31/31 [==============================] - 0s 452us/step - loss: 2.2866 - accuracy: 0.1235\n",
      "Epoch 14/100\n",
      "31/31 [==============================] - 0s 516us/step - loss: 2.2867 - accuracy: 0.1204\n",
      "Epoch 15/100\n",
      "31/31 [==============================] - 0s 524us/step - loss: 2.2855 - accuracy: 0.1317\n",
      "Epoch 16/100\n",
      "31/31 [==============================] - 0s 593us/step - loss: 2.2824 - accuracy: 0.1409\n",
      "Epoch 17/100\n",
      "31/31 [==============================] - 0s 490us/step - loss: 2.2814 - accuracy: 0.1286\n",
      "Epoch 18/100\n",
      "31/31 [==============================] - 0s 466us/step - loss: 2.2800 - accuracy: 0.1512\n",
      "Epoch 19/100\n",
      "31/31 [==============================] - 0s 527us/step - loss: 2.2792 - accuracy: 0.1430\n",
      "Epoch 20/100\n",
      "31/31 [==============================] - 0s 526us/step - loss: 2.2760 - accuracy: 0.1492\n",
      "Epoch 21/100\n",
      "31/31 [==============================] - 0s 573us/step - loss: 2.2777 - accuracy: 0.1605\n",
      "Epoch 22/100\n",
      "31/31 [==============================] - 0s 499us/step - loss: 2.2761 - accuracy: 0.1420\n",
      "Epoch 23/100\n",
      "31/31 [==============================] - 0s 499us/step - loss: 2.2743 - accuracy: 0.1739\n",
      "Epoch 24/100\n",
      "31/31 [==============================] - 0s 499us/step - loss: 2.2749 - accuracy: 0.1502\n",
      "Epoch 25/100\n",
      "31/31 [==============================] - 0s 510us/step - loss: 2.2722 - accuracy: 0.1656\n",
      "Epoch 26/100\n",
      "31/31 [==============================] - 0s 532us/step - loss: 2.2715 - accuracy: 0.1626\n",
      "Epoch 27/100\n",
      "31/31 [==============================] - 0s 532us/step - loss: 2.2699 - accuracy: 0.1698\n",
      "Epoch 28/100\n",
      "31/31 [==============================] - 0s 537us/step - loss: 2.2701 - accuracy: 0.1687\n",
      "Epoch 29/100\n",
      "31/31 [==============================] - 0s 499us/step - loss: 2.2681 - accuracy: 0.1698\n",
      "Epoch 30/100\n",
      "31/31 [==============================] - 0s 499us/step - loss: 2.2666 - accuracy: 0.1687\n",
      "Epoch 31/100\n",
      "31/31 [==============================] - 0s 499us/step - loss: 2.2674 - accuracy: 0.1770\n",
      "Epoch 32/100\n",
      "31/31 [==============================] - 0s 499us/step - loss: 2.2650 - accuracy: 0.1831\n",
      "Epoch 33/100\n",
      "31/31 [==============================] - 0s 458us/step - loss: 2.2654 - accuracy: 0.1728\n",
      "Epoch 34/100\n",
      "31/31 [==============================] - 0s 499us/step - loss: 2.2670 - accuracy: 0.1677\n",
      "Epoch 35/100\n",
      "31/31 [==============================] - 0s 532us/step - loss: 2.2641 - accuracy: 0.1800\n",
      "Epoch 36/100\n",
      "31/31 [==============================] - 0s 501us/step - loss: 2.2615 - accuracy: 0.1790\n",
      "Epoch 37/100\n",
      "31/31 [==============================] - 0s 499us/step - loss: 2.2614 - accuracy: 0.1770\n",
      "Epoch 38/100\n",
      "31/31 [==============================] - 0s 474us/step - loss: 2.2609 - accuracy: 0.1862\n",
      "Epoch 39/100\n",
      "31/31 [==============================] - 0s 476us/step - loss: 2.2592 - accuracy: 0.1862\n",
      "Epoch 40/100\n",
      "31/31 [==============================] - 0s 492us/step - loss: 2.2590 - accuracy: 0.1842\n",
      "Epoch 41/100\n",
      "31/31 [==============================] - 0s 478us/step - loss: 2.2580 - accuracy: 0.1944\n",
      "Epoch 42/100\n",
      "31/31 [==============================] - 0s 526us/step - loss: 2.2570 - accuracy: 0.1780\n",
      "Epoch 43/100\n",
      "31/31 [==============================] - 0s 507us/step - loss: 2.2578 - accuracy: 0.1965\n",
      "Epoch 44/100\n",
      "31/31 [==============================] - 0s 528us/step - loss: 2.2553 - accuracy: 0.1872\n",
      "Epoch 45/100\n",
      "31/31 [==============================] - 0s 522us/step - loss: 2.2544 - accuracy: 0.1944\n",
      "Epoch 46/100\n",
      "31/31 [==============================] - 0s 472us/step - loss: 2.2545 - accuracy: 0.1842\n",
      "Epoch 47/100\n",
      "31/31 [==============================] - 0s 494us/step - loss: 2.2533 - accuracy: 0.1934\n",
      "Epoch 48/100\n",
      "31/31 [==============================] - 0s 490us/step - loss: 2.2520 - accuracy: 0.1986\n",
      "Epoch 49/100\n",
      "31/31 [==============================] - 0s 514us/step - loss: 2.2533 - accuracy: 0.1770\n",
      "Epoch 50/100\n",
      "31/31 [==============================] - 0s 471us/step - loss: 2.2517 - accuracy: 0.1872\n",
      "Epoch 51/100\n",
      "31/31 [==============================] - 0s 465us/step - loss: 2.2506 - accuracy: 0.1934\n",
      "Epoch 52/100\n",
      "31/31 [==============================] - 0s 546us/step - loss: 2.2497 - accuracy: 0.1975\n",
      "Epoch 53/100\n",
      "31/31 [==============================] - 0s 465us/step - loss: 2.2494 - accuracy: 0.1934\n",
      "Epoch 54/100\n",
      "31/31 [==============================] - 0s 532us/step - loss: 2.2495 - accuracy: 0.1800\n",
      "Epoch 55/100\n",
      "31/31 [==============================] - 0s 489us/step - loss: 2.2492 - accuracy: 0.1934\n",
      "Epoch 56/100\n",
      "31/31 [==============================] - 0s 499us/step - loss: 2.2471 - accuracy: 0.2037\n",
      "Epoch 57/100\n",
      "31/31 [==============================] - 0s 517us/step - loss: 2.2472 - accuracy: 0.2068\n",
      "Epoch 58/100\n",
      "31/31 [==============================] - 0s 523us/step - loss: 2.2491 - accuracy: 0.1955\n",
      "Epoch 59/100\n",
      "31/31 [==============================] - 0s 519us/step - loss: 2.2472 - accuracy: 0.1975\n",
      "Epoch 60/100\n",
      "31/31 [==============================] - 0s 494us/step - loss: 2.2456 - accuracy: 0.1986\n",
      "Epoch 61/100\n",
      "31/31 [==============================] - 0s 501us/step - loss: 2.2454 - accuracy: 0.1903\n",
      "Epoch 62/100\n",
      "31/31 [==============================] - 0s 501us/step - loss: 2.2464 - accuracy: 0.1903\n",
      "Epoch 63/100\n",
      "31/31 [==============================] - 0s 503us/step - loss: 2.2442 - accuracy: 0.2006\n",
      "Epoch 64/100\n",
      "31/31 [==============================] - 0s 458us/step - loss: 2.2435 - accuracy: 0.1934\n",
      "Epoch 65/100\n",
      "31/31 [==============================] - 0s 499us/step - loss: 2.2422 - accuracy: 0.1965\n",
      "Epoch 66/100\n",
      "31/31 [==============================] - 0s 522us/step - loss: 2.2425 - accuracy: 0.1975\n",
      "Epoch 67/100\n",
      "31/31 [==============================] - 0s 508us/step - loss: 2.2416 - accuracy: 0.2016\n",
      "Epoch 68/100\n",
      "31/31 [==============================] - 0s 532us/step - loss: 2.2435 - accuracy: 0.1914\n",
      "Epoch 69/100\n",
      "31/31 [==============================] - 0s 507us/step - loss: 2.2403 - accuracy: 0.1914\n",
      "Epoch 70/100\n",
      "31/31 [==============================] - 0s 499us/step - loss: 2.2410 - accuracy: 0.1955\n",
      "Epoch 71/100\n",
      "31/31 [==============================] - 0s 499us/step - loss: 2.2389 - accuracy: 0.1965\n",
      "Epoch 72/100\n",
      "31/31 [==============================] - 0s 499us/step - loss: 2.2399 - accuracy: 0.1955\n",
      "Epoch 73/100\n",
      "31/31 [==============================] - 0s 510us/step - loss: 2.2393 - accuracy: 0.2016\n",
      "Epoch 74/100\n",
      "31/31 [==============================] - 0s 465us/step - loss: 2.2381 - accuracy: 0.2027\n",
      "Epoch 75/100\n"
     ]
    },
    {
     "name": "stdout",
     "output_type": "stream",
     "text": [
      "31/31 [==============================] - 0s 465us/step - loss: 2.2371 - accuracy: 0.1955\n",
      "Epoch 76/100\n",
      "31/31 [==============================] - 0s 499us/step - loss: 2.2367 - accuracy: 0.2078\n",
      "Epoch 77/100\n",
      "31/31 [==============================] - 0s 499us/step - loss: 2.2366 - accuracy: 0.2058\n",
      "Epoch 78/100\n",
      "31/31 [==============================] - 0s 465us/step - loss: 2.2371 - accuracy: 0.2006\n",
      "Epoch 79/100\n",
      "31/31 [==============================] - 0s 499us/step - loss: 2.2362 - accuracy: 0.2027\n",
      "Epoch 80/100\n",
      "31/31 [==============================] - 0s 499us/step - loss: 2.2344 - accuracy: 0.2058\n",
      "Epoch 81/100\n",
      "31/31 [==============================] - 0s 518us/step - loss: 2.2354 - accuracy: 0.2027\n",
      "Epoch 82/100\n",
      "31/31 [==============================] - 0s 482us/step - loss: 2.2359 - accuracy: 0.2016\n",
      "Epoch 83/100\n",
      "31/31 [==============================] - 0s 540us/step - loss: 2.2341 - accuracy: 0.1996\n",
      "Epoch 84/100\n",
      "31/31 [==============================] - 0s 532us/step - loss: 2.2348 - accuracy: 0.1996\n",
      "Epoch 85/100\n",
      "31/31 [==============================] - 0s 499us/step - loss: 2.2349 - accuracy: 0.1975\n",
      "Epoch 86/100\n",
      "31/31 [==============================] - 0s 522us/step - loss: 2.2338 - accuracy: 0.2140\n",
      "Epoch 87/100\n",
      "31/31 [==============================] - 0s 480us/step - loss: 2.2334 - accuracy: 0.1996\n",
      "Epoch 88/100\n",
      "31/31 [==============================] - 0s 481us/step - loss: 2.2333 - accuracy: 0.2027\n",
      "Epoch 89/100\n",
      "31/31 [==============================] - 0s 499us/step - loss: 2.2315 - accuracy: 0.1955\n",
      "Epoch 90/100\n",
      "31/31 [==============================] - 0s 483us/step - loss: 2.2332 - accuracy: 0.2037\n",
      "Epoch 91/100\n",
      "31/31 [==============================] - 0s 490us/step - loss: 2.2319 - accuracy: 0.1996\n",
      "Epoch 92/100\n",
      "31/31 [==============================] - 0s 482us/step - loss: 2.2319 - accuracy: 0.2006\n",
      "Epoch 93/100\n",
      "31/31 [==============================] - 0s 488us/step - loss: 2.2302 - accuracy: 0.2088\n",
      "Epoch 94/100\n",
      "31/31 [==============================] - 0s 499us/step - loss: 2.2315 - accuracy: 0.2058\n",
      "Epoch 95/100\n",
      "31/31 [==============================] - 0s 522us/step - loss: 2.2313 - accuracy: 0.2006\n",
      "Epoch 96/100\n",
      "31/31 [==============================] - 0s 465us/step - loss: 2.2293 - accuracy: 0.2068\n",
      "Epoch 97/100\n",
      "31/31 [==============================] - 0s 499us/step - loss: 2.2292 - accuracy: 0.2058\n",
      "Epoch 98/100\n",
      "31/31 [==============================] - 0s 532us/step - loss: 2.2300 - accuracy: 0.2109\n",
      "Epoch 99/100\n",
      "31/31 [==============================] - 0s 499us/step - loss: 2.2288 - accuracy: 0.2027\n",
      "Epoch 100/100\n",
      "31/31 [==============================] - 0s 488us/step - loss: 2.2297 - accuracy: 0.1862\n"
     ]
    },
    {
     "data": {
      "text/plain": [
       "<keras.callbacks.History at 0x1de065f6130>"
      ]
     },
     "execution_count": 15,
     "metadata": {},
     "output_type": "execute_result"
    }
   ],
   "source": [
    "# model = get_compiled_model()\n",
    "# model.fit(dataset_train,epochs=10)\n",
    "model = get_compiled_model2()\n",
    "model.summary()\n",
    "\n",
    "model.compile(optimizer=tf.optimizers.Adam(),\n",
    "              loss='sparse_categorical_crossentropy',\n",
    "              metrics=['accuracy'])\n",
    "\n",
    "\n",
    "#(x_train, y_train),(x_test,y_test)=tf.keras.datasets.mnist.load_data()\n",
    "\n",
    "model.fit(np.array(data_train),np.array(target_train), epochs=100)"
   ]
  },
  {
   "cell_type": "code",
   "execution_count": 16,
   "id": "cf86a329",
   "metadata": {
    "scrolled": false
   },
   "outputs": [
    {
     "name": "stdout",
     "output_type": "stream",
     "text": [
      "4/4 [==============================] - 0s 665us/step - loss: 2.2542 - accuracy: 0.2018\n"
     ]
    },
    {
     "data": {
      "text/plain": [
       "[2.254173755645752, 0.20183485746383667]"
      ]
     },
     "execution_count": 16,
     "metadata": {},
     "output_type": "execute_result"
    }
   ],
   "source": [
    "model.evaluate(np.array(data_test),np.array(target_test))"
   ]
  },
  {
   "cell_type": "code",
   "execution_count": 17,
   "id": "de278c27",
   "metadata": {},
   "outputs": [
    {
     "name": "stderr",
     "output_type": "stream",
     "text": [
      "WARNING:absl:Function `_wrapped_model` contains input name(s) InputLayer with unsupported characters which will be renamed to inputlayer in the SavedModel.\n"
     ]
    },
    {
     "name": "stdout",
     "output_type": "stream",
     "text": [
      "INFO:tensorflow:Assets written to: OutputModel\\assets\n"
     ]
    },
    {
     "name": "stderr",
     "output_type": "stream",
     "text": [
      "INFO:tensorflow:Assets written to: OutputModel\\assets\n"
     ]
    }
   ],
   "source": [
    "model.save('OutputModel')"
   ]
  },
  {
   "cell_type": "code",
   "execution_count": 18,
   "id": "68b5f00f",
   "metadata": {},
   "outputs": [
    {
     "data": {
      "text/plain": [
       "3704"
      ]
     },
     "execution_count": 18,
     "metadata": {},
     "output_type": "execute_result"
    }
   ],
   "source": [
    "converter = tf.lite.TFLiteConverter.from_saved_model('./OutputModel')\n",
    "tflite_model = converter.convert()\n",
    "open(\"converted_model.tflite\",\"wb\").write(tflite_model)"
   ]
  },
  {
   "cell_type": "code",
   "execution_count": 19,
   "id": "507ea770",
   "metadata": {
    "collapsed": true
   },
   "outputs": [
    {
     "name": "stdout",
     "output_type": "stream",
     "text": [
      "('You must install pydot (`pip install pydot`) and install graphviz (see instructions at https://graphviz.gitlab.io/download/) ', 'for plot_model/model_to_dot to work.')\n"
     ]
    }
   ],
   "source": [
    "from tensorflow.keras.utils import plot_model\n",
    "plot_model(model, show_shapes=True)"
   ]
  },
  {
   "cell_type": "code",
   "execution_count": 20,
   "id": "6af8476b",
   "metadata": {
    "collapsed": true
   },
   "outputs": [
    {
     "name": "stdout",
     "output_type": "stream",
     "text": [
      "           0_x       0_y  0_z       1_x       1_y       1_z       2_x  \\\n",
      "416   0.423252  0.981911  0.0  0.316806  0.905923 -0.037443  0.256267   \n",
      "814   0.450774  0.797520  0.0  0.371243  0.716952 -0.058801  0.371437   \n",
      "783   0.435707  0.831235  0.0  0.344205  0.796995 -0.079064  0.325366   \n",
      "943   0.468832  0.891306  0.0  0.394265  0.793745 -0.051720  0.362240   \n",
      "1032  0.552034  0.705038  0.0  0.492487  0.681834 -0.054971  0.461370   \n",
      "...        ...       ...  ...       ...       ...       ...       ...   \n",
      "1042  0.405055  0.885562  0.0  0.309893  0.832201 -0.084976  0.238437   \n",
      "462   0.428254  0.930926  0.0  0.269986  0.870332 -0.063431  0.215169   \n",
      "710   0.442521  0.799656  0.0  0.388644  0.790892 -0.114809  0.376636   \n",
      "741   0.481650  0.808156  0.0  0.373666  0.756077 -0.075542  0.359399   \n",
      "444   0.463526  0.825626  0.0  0.411861  0.790635 -0.057146  0.425130   \n",
      "\n",
      "           2_y       2_z       3_x  ...      17_z      18_x      18_y  \\\n",
      "416   0.769695 -0.060055  0.301411  ... -0.135449  0.705828  0.630641   \n",
      "814   0.579854 -0.070710  0.462400  ... -0.042845  0.672335  0.450289   \n",
      "783   0.669714 -0.118190  0.378276  ... -0.105839  0.644822  0.550452   \n",
      "943   0.651667 -0.076173  0.395792  ... -0.070312  0.774980  0.564682   \n",
      "1032  0.614472 -0.092629  0.458173  ... -0.101922  0.698312  0.455959   \n",
      "...        ...       ...       ...  ...       ...       ...       ...   \n",
      "1042  0.703780 -0.137486  0.262824  ... -0.131734  0.699446  0.547602   \n",
      "462   0.720540 -0.102536  0.325426  ... -0.151451  0.696404  0.480682   \n",
      "710   0.746469 -0.196897  0.437874  ... -0.190709  0.569486  0.563242   \n",
      "741   0.618013 -0.113199  0.481770  ... -0.099874  0.679604  0.445835   \n",
      "444   0.743289 -0.108627  0.519270  ... -0.154703  0.687366  0.557092   \n",
      "\n",
      "          18_z      19_x      19_y      19_z      20_x      20_y      20_z  \n",
      "416  -0.178173  0.731900  0.553945 -0.203982  0.750778  0.481948 -0.222438  \n",
      "814  -0.088516  0.701552  0.373745 -0.109933  0.726399  0.309867 -0.113158  \n",
      "783  -0.161024  0.681331  0.490943 -0.178750  0.715440  0.431065 -0.179856  \n",
      "943  -0.103661  0.820698  0.498860 -0.125118  0.853501  0.438202 -0.138482  \n",
      "1032 -0.144052  0.729245  0.397243 -0.159274  0.751895  0.347968 -0.163719  \n",
      "...        ...       ...       ...       ...       ...       ...       ...  \n",
      "1042 -0.177876  0.750757  0.476180 -0.201269  0.788541  0.410487 -0.216813  \n",
      "462  -0.191326  0.746045  0.394653 -0.212374  0.773852  0.312511 -0.227125  \n",
      "710  -0.260193  0.544967  0.585651 -0.293324  0.521926  0.624992 -0.319200  \n",
      "741  -0.142702  0.648561  0.450690 -0.165421  0.619068  0.492175 -0.182102  \n",
      "444  -0.201423  0.709240  0.478513 -0.227382  0.723537  0.412001 -0.246977  \n",
      "\n",
      "[972 rows x 63 columns]\n"
     ]
    }
   ],
   "source": [
    "print(data_train)"
   ]
  }
 ],
 "metadata": {
  "kernelspec": {
   "display_name": "Python 3 (ipykernel)",
   "language": "python",
   "name": "python3"
  },
  "language_info": {
   "codemirror_mode": {
    "name": "ipython",
    "version": 3
   },
   "file_extension": ".py",
   "mimetype": "text/x-python",
   "name": "python",
   "nbconvert_exporter": "python",
   "pygments_lexer": "ipython3",
   "version": "3.9.7"
  }
 },
 "nbformat": 4,
 "nbformat_minor": 5
}

{
 "cells": [
  {
   "cell_type": "markdown",
   "id": "514eb915",
   "metadata": {},
   "source": [
    "# 손가락 숫자 이미지를 21개 점으로 데이터화"
   ]
  },
  {
   "cell_type": "markdown",
   "id": "2b3a014d",
   "metadata": {},
   "source": [
    "## 1. import 부분"
   ]
  },
  {
   "cell_type": "code",
   "execution_count": 1,
   "id": "9795762f",
   "metadata": {},
   "outputs": [],
   "source": [
    "import cv2\n",
    "import mediapipe as mp\n",
    "mp_drawing = mp.solutions.drawing_utils\n",
    "mp_drawing_styles = mp.solutions.drawing_styles\n",
    "mp_hands = mp.solutions.hands"
   ]
  },
  {
   "cell_type": "code",
   "execution_count": 2,
   "id": "0a98fc98",
   "metadata": {},
   "outputs": [],
   "source": [
    "import os\n",
    "import numpy as np\n",
    "import pandas as pd"
   ]
  },
  {
   "cell_type": "code",
   "execution_count": 3,
   "id": "d2132848",
   "metadata": {},
   "outputs": [],
   "source": [
    "path_dir = './Sign-Language-Digits-Dataset-master/Dataset/'\n",
    "# 0 ... 9 손가락 숫자\n",
    "path_type = [i for i in range(10)]"
   ]
  },
  {
   "cell_type": "code",
   "execution_count": 4,
   "id": "e1287d2d",
   "metadata": {},
   "outputs": [],
   "source": [
    "IMAGE_FILES = list()\n",
    "\n",
    "for t in path_type:\n",
    "    # 불러오는 위치\n",
    "    from_path = path_dir + str(t) + '/'\n",
    "\n",
    "    # 파일 불러오기\n",
    "    file_list = os.listdir(from_path)\n",
    "    # 확장자가 jpg 인 모든 파일을 불러온다.\n",
    "    IMAGE_FILES+=[from_path+ file for file in file_list if file.endswith('.JPG')]"
   ]
  },
  {
   "cell_type": "markdown",
   "id": "872273df",
   "metadata": {},
   "source": [
    "## 2. 이미지 불러와서 처리"
   ]
  },
  {
   "cell_type": "code",
   "execution_count": 5,
   "id": "45b9cbee",
   "metadata": {},
   "outputs": [
    {
     "name": "stdout",
     "output_type": "stream",
     "text": [
      "Handedness :  [classification {\n",
      "  index: 1\n",
      "  score: 0.5722333788871765\n",
      "  label: \"Right\"\n",
      "}\n",
      "]\n"
     ]
    },
    {
     "ename": "IndexError",
     "evalue": "string index out of range",
     "output_type": "error",
     "traceback": [
      "\u001b[1;31m---------------------------------------------------------------------------\u001b[0m",
      "\u001b[1;31mIndexError\u001b[0m                                Traceback (most recent call last)",
      "\u001b[1;32m~\\AppData\\Local\\Temp/ipykernel_22228/3776947943.py\u001b[0m in \u001b[0;36m<module>\u001b[1;34m\u001b[0m\n\u001b[0;32m     53\u001b[0m             \u001b[1;31m# 결과 값 삽입\u001b[0m\u001b[1;33m\u001b[0m\u001b[1;33m\u001b[0m\u001b[0m\n\u001b[0;32m     54\u001b[0m \u001b[1;33m\u001b[0m\u001b[0m\n\u001b[1;32m---> 55\u001b[1;33m             \u001b[0midx_landmarks\u001b[0m\u001b[1;33m.\u001b[0m\u001b[0mappend\u001b[0m\u001b[1;33m(\u001b[0m\u001b[0mint\u001b[0m\u001b[1;33m(\u001b[0m\u001b[0mfile\u001b[0m\u001b[1;33m[\u001b[0m\u001b[1;36m82\u001b[0m\u001b[1;33m]\u001b[0m\u001b[1;33m)\u001b[0m\u001b[1;33m)\u001b[0m\u001b[1;33m\u001b[0m\u001b[1;33m\u001b[0m\u001b[0m\n\u001b[0m\u001b[0;32m     56\u001b[0m \u001b[1;33m\u001b[0m\u001b[0m\n\u001b[0;32m     57\u001b[0m             \u001b[0mlandmarks_list\u001b[0m\u001b[1;33m.\u001b[0m\u001b[0mappend\u001b[0m\u001b[1;33m(\u001b[0m\u001b[0midx_landmarks\u001b[0m\u001b[1;33m)\u001b[0m\u001b[1;33m\u001b[0m\u001b[1;33m\u001b[0m\u001b[0m\n",
      "\u001b[1;31mIndexError\u001b[0m: string index out of range"
     ]
    }
   ],
   "source": [
    "# For static images:\n",
    "# TODO 여기 안에 처리되는 데이터를, 배열로 저장해서 CSV 형태로 저장\n",
    "\n",
    "landmarks_list = list(list())\n",
    "\n",
    "# 0 ~ 20\n",
    "# x, y, z\n",
    "# 63\n",
    "# 63 + target[0 ~ 9]\n",
    "\n",
    "# 데이터가 0~9 까지 각각 200개씩\n",
    "# 최댓값은 2000개\n",
    "\n",
    "\n",
    "with mp_hands.Hands(\n",
    "static_image_mode = True,\n",
    "max_num_hands = 1,\n",
    "min_detection_confidence=0.5) as hands:\n",
    "    for idx, file in enumerate(IMAGE_FILES):\n",
    "        \n",
    "        idx_landmarks = []\n",
    "        \n",
    "        image = cv2.flip(cv2.imread(file),1)\n",
    "        \n",
    "        result = hands.process(cv2.cvtColor(image, cv2.COLOR_BGR2RGB))\n",
    "        \n",
    "        print('Handedness : ',result.multi_handedness)\n",
    "        \n",
    "        \n",
    "        if not result.multi_hand_landmarks:\n",
    "            continue\n",
    "        \n",
    "        image_hegiht, image_width, _ =image.shape\n",
    "        \n",
    "        annotated_image = image.copy()\n",
    "        for hand_landmarks in result.multi_hand_landmarks:\n",
    "            #rint(\"#######\",len(hand_landmarks.landmark))\n",
    "            \n",
    "            # x, y, z 데이터 삽입\n",
    "            for  i in hand_landmarks.landmark:\n",
    "                idx_landmarks.append(i.x)\n",
    "                idx_landmarks.append(i.y)\n",
    "                idx_landmarks.append(i.z)\n",
    "            \n",
    "#             print('hand_landmarks : ',hand_landmarks)\n",
    "            \n",
    "#             print(\n",
    "#             f'Index finger tip coordinates : (',\n",
    "#             f'{hand_landmarks.landmark[mp_hands.HandLandmark.INDEX_FINGER_TIP].x*image_width}, '\n",
    "#             f'{hand_landmarks.landmark[mp_hands.HandLandmark.INDEX_FINGER_TIP].y*image_hegiht}) ')\n",
    "            \n",
    "            \n",
    "            # 결과 값 삽입\n",
    "\n",
    "            idx_landmarks.append(int(file[82]))\n",
    "            \n",
    "            landmarks_list.append(idx_landmarks)\n",
    "\n",
    "\n",
    "       "
   ]
  },
  {
   "cell_type": "code",
   "execution_count": null,
   "id": "b150886d",
   "metadata": {},
   "outputs": [],
   "source": [
    "df_columns = []\n",
    "for i in range(21):\n",
    "    for dimension in ['x','y','z']:\n",
    "        df_columns.append(str(i)+'_'+dimension)\n",
    "    \n",
    "print(df_columns)\n",
    "\n",
    "df_columns.append('target')\n",
    "\n",
    "# print(landmarks_list)\n",
    "df = pd.DataFrame(landmarks_list,columns=df_columns)\n",
    "df.columns\n",
    "print(df)"
   ]
  },
  {
   "cell_type": "markdown",
   "id": "aecc3e20",
   "metadata": {},
   "source": [
    "## CSV 파일로 내보내기"
   ]
  },
  {
   "cell_type": "code",
   "execution_count": null,
   "id": "680b9a51",
   "metadata": {
    "scrolled": true
   },
   "outputs": [],
   "source": [
    "df\n",
    "df.to_csv('output.csv')"
   ]
  },
  {
   "cell_type": "markdown",
   "id": "df02de66",
   "metadata": {},
   "source": [
    "## 이미지를 그리는 부분"
   ]
  },
  {
   "cell_type": "code",
   "execution_count": null,
   "id": "926fc7a9",
   "metadata": {},
   "outputs": [],
   "source": [
    " # 이미지를 그리는 부분\n",
    "        mp_drawing.draw_landmarks(\n",
    "        annotated_image,\n",
    "        hand_landmarks,\n",
    "        mp_hands.HAND_CONNECTIONS,\n",
    "        mp_drawing_styles.get_default_hand_landmarks_style(),\n",
    "        mp_drawing_styles.get_default_hand_connections_style())\n",
    "\n",
    "        cv2.imwrite(\n",
    "        './annotated_image'+str(idx)+'.png',cv2.flip(annotated_image,1))"
   ]
  }
 ],
 "metadata": {
  "kernelspec": {
   "display_name": "Python 3 (ipykernel)",
   "language": "python",
   "name": "python3"
  },
  "language_info": {
   "codemirror_mode": {
    "name": "ipython",
    "version": 3
   },
   "file_extension": ".py",
   "mimetype": "text/x-python",
   "name": "python",
   "nbconvert_exporter": "python",
   "pygments_lexer": "ipython3",
   "version": "3.9.7"
  }
 },
 "nbformat": 4,
 "nbformat_minor": 5
}

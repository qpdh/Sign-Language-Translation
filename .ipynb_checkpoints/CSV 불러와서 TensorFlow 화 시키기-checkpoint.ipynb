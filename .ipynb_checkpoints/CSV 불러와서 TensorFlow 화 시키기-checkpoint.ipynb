{
 "cells": [
  {
   "cell_type": "markdown",
   "id": "eb02faa7",
   "metadata": {},
   "source": [
    "# import"
   ]
  },
  {
   "cell_type": "code",
   "execution_count": 1,
   "id": "03cfb4ee",
   "metadata": {},
   "outputs": [],
   "source": [
    "import functools\n",
    "\n",
    "import numpy as np\n",
    "\n",
    "import pandas as pd\n",
    "\n",
    "import tensorflow as tf\n",
    "\n",
    "from sklearn.model_selection import train_test_split"
   ]
  },
  {
   "cell_type": "markdown",
   "id": "6a5ed1b7",
   "metadata": {},
   "source": [
    "# 비율 나누기"
   ]
  },
  {
   "cell_type": "code",
   "execution_count": 2,
   "id": "871a40c2",
   "metadata": {},
   "outputs": [],
   "source": [
    "TRAIN_DATA_URL = 'D:\\GitHub\\Sign-Language-Translation\\output.csv'\n",
    "\n",
    "data = pd.read_csv(TRAIN_DATA_URL)"
   ]
  },
  {
   "cell_type": "markdown",
   "id": "b4d87be3",
   "metadata": {},
   "source": [
    "# 정규화"
   ]
  },
  {
   "cell_type": "markdown",
   "id": "51b15fb4",
   "metadata": {},
   "source": [
    "## 데이터 확인"
   ]
  },
  {
   "cell_type": "code",
   "execution_count": 3,
   "id": "dab85457",
   "metadata": {
    "scrolled": false
   },
   "outputs": [],
   "source": [
    "desc = data['0_x'].describe()"
   ]
  },
  {
   "cell_type": "code",
   "execution_count": 4,
   "id": "b0634ebc",
   "metadata": {},
   "outputs": [
    {
     "name": "stdout",
     "output_type": "stream",
     "text": [
      "0.49587873605861366 0.06815192050462648\n"
     ]
    }
   ],
   "source": [
    "MEAN = np.array(desc.T['mean'])\n",
    "STD = np.array(desc.T['std'])\n",
    "\n",
    "print(MEAN, STD)"
   ]
  },
  {
   "cell_type": "markdown",
   "id": "b2163727",
   "metadata": {},
   "source": [
    "정규화 하기  \n",
    "(X-m)/std"
   ]
  },
  {
   "cell_type": "code",
   "execution_count": 5,
   "id": "bf5fe092",
   "metadata": {},
   "outputs": [],
   "source": [
    "def normalize_numeric_data(data, mean, std):\n",
    "    return (data-mean)/std"
   ]
  },
  {
   "cell_type": "code",
   "execution_count": 6,
   "id": "d1094579",
   "metadata": {
    "scrolled": true
   },
   "outputs": [],
   "source": [
    "# normalizer = functools.partial(normalize_numeric_data, mean=MEAN, std=STD)\n",
    "\n",
    "# numerric_column = tf.feature_column.numeric_column('numeric',normalizer_fn=normalizer, shape=[len(NUMBERIC_FEATURES)])\n",
    "# numeric_columns = [numerric_column]\n",
    "# numeric_column"
   ]
  },
  {
   "cell_type": "code",
   "execution_count": 7,
   "id": "425ba42d",
   "metadata": {
    "scrolled": true
   },
   "outputs": [],
   "source": [
    "numpy_data = np.array(data)"
   ]
  },
  {
   "cell_type": "markdown",
   "id": "e9445e8c",
   "metadata": {},
   "source": [
    "## 훈련 데이터, 테스트 데이터 분리"
   ]
  },
  {
   "cell_type": "code",
   "execution_count": 8,
   "id": "0f6daf72",
   "metadata": {},
   "outputs": [],
   "source": [
    "data_train, data_test = train_test_split(data, \n",
    "                 test_size=3/10,\n",
    "                stratify=data['target'],\n",
    "                random_state=20210918)"
   ]
  },
  {
   "cell_type": "code",
   "execution_count": 9,
   "id": "cf6edf6a",
   "metadata": {
    "scrolled": false
   },
   "outputs": [],
   "source": [
    "# np.unique(data_train['target'],return_counts=True)\n",
    "# np.unique(data_test['target'],return_counts=True)"
   ]
  },
  {
   "cell_type": "markdown",
   "id": "2fe082ef",
   "metadata": {},
   "source": [
    "## 결과값 분리\n",
    "### 타겟 분리\n",
    "### 0번째 열 제거"
   ]
  },
  {
   "cell_type": "code",
   "execution_count": 10,
   "id": "bd0e4a85",
   "metadata": {},
   "outputs": [
    {
     "data": {
      "text/plain": [
       "225      225\n",
       "406      406\n",
       "965      965\n",
       "719      719\n",
       "1066    1066\n",
       "        ... \n",
       "757      757\n",
       "700      700\n",
       "332      332\n",
       "287      287\n",
       "370      370\n",
       "Name: Unnamed: 0, Length: 325, dtype: int64"
      ]
     },
     "execution_count": 10,
     "metadata": {},
     "output_type": "execute_result"
    }
   ],
   "source": [
    "target_train = data_train.pop('target')\n",
    "target_test = data_test.pop('target')\n",
    "\n",
    "data_train.pop('Unnamed: 0')\n",
    "data_test.pop('Unnamed: 0')"
   ]
  },
  {
   "cell_type": "code",
   "execution_count": 11,
   "id": "9135d414",
   "metadata": {},
   "outputs": [
    {
     "data": {
      "text/plain": [
       "Index(['0_x', '0_y', '0_z', '1_x', '1_y', '1_z', '2_x', '2_y', '2_z', '3_x',\n",
       "       '3_y', '3_z', '4_x', '4_y', '4_z', '5_x', '5_y', '5_z', '6_x', '6_y',\n",
       "       '6_z', '7_x', '7_y', '7_z', '8_x', '8_y', '8_z', '9_x', '9_y', '9_z',\n",
       "       '10_x', '10_y', '10_z', '11_x', '11_y', '11_z', '12_x', '12_y', '12_z',\n",
       "       '13_x', '13_y', '13_z', '14_x', '14_y', '14_z', '15_x', '15_y', '15_z',\n",
       "       '16_x', '16_y', '16_z', '17_x', '17_y', '17_z', '18_x', '18_y', '18_z',\n",
       "       '19_x', '19_y', '19_z', '20_x', '20_y', '20_z'],\n",
       "      dtype='object')"
      ]
     },
     "execution_count": 11,
     "metadata": {},
     "output_type": "execute_result"
    }
   ],
   "source": [
    "data_train.columns"
   ]
  },
  {
   "cell_type": "markdown",
   "id": "661db394",
   "metadata": {},
   "source": [
    "## 데이터셋 생성"
   ]
  },
  {
   "cell_type": "code",
   "execution_count": 64,
   "id": "1e8b0d79",
   "metadata": {},
   "outputs": [],
   "source": [
    "dataset_train = tf.data.Dataset.from_tensor_slices((data_train.values, target_train.values))\n",
    "dataset_test = tf.data.Dataset.from_tensor_slices((data_test.values, target_test.values))"
   ]
  },
  {
   "cell_type": "markdown",
   "id": "79245dda",
   "metadata": {},
   "source": [
    "## 데이터 세트 사용하기\n",
    "### 데이터세트 셔플 및 배치"
   ]
  },
  {
   "cell_type": "code",
   "execution_count": 65,
   "id": "6fcb6bc8",
   "metadata": {},
   "outputs": [],
   "source": [
    "BATCH_SIZE = 100\n",
    "SUFFLE_BUFFER_SIZE = 1\n",
    "\n",
    "dataset_train = dataset_train.shuffle(SUFFLE_BUFFER_SIZE).batch(BATCH_SIZE)\n",
    "dataset_test = dataset_test.shuffle(SUFFLE_BUFFER_SIZE).batch(BATCH_SIZE)"
   ]
  },
  {
   "cell_type": "markdown",
   "id": "05ae363e",
   "metadata": {},
   "source": [
    "# 모델 생성"
   ]
  },
  {
   "cell_type": "code",
   "execution_count": 73,
   "id": "2ecbef88",
   "metadata": {},
   "outputs": [],
   "source": [
    "def get_compiled_model():\n",
    "    model = tf.keras.Sequential([\n",
    "        tf.keras.layers.Dense(10, activation='relu'),\n",
    "        tf.keras.layers.Dense(10, activation='relu'),\n",
    "        tf.keras.layers.Dense(1)\n",
    "    ])\n",
    "\n",
    "    model.compile(optimizer='adam',\n",
    "                 loss=tf.keras.losses.BinaryCrossentropy(from_logits=True),\n",
    "                 metrics=['accuracy'])\n",
    "    return model\n",
    "\n",
    "input_layer = tf.keras.Input(shape=(21,21),name=\"InputLayer\")\n",
    "x5 = tf.keras.layers.Dense(10,activation=\"softmax\",name=\"OutputLayer\")(input_layer)\n",
    "\n",
    "def get_compiled_model2():\n",
    "    model = tf.keras.Model(inputs=input_layer,outputs=x5,name=\"FunctionalModel\")\n",
    "    return model"
   ]
  },
  {
   "cell_type": "code",
   "execution_count": 74,
   "id": "75c6ee12",
   "metadata": {},
   "outputs": [
    {
     "name": "stdout",
     "output_type": "stream",
     "text": [
      "Model: \"FunctionalModel\"\n",
      "_________________________________________________________________\n",
      "Layer (type)                 Output Shape              Param #   \n",
      "=================================================================\n",
      "InputLayer (InputLayer)      [(None, 21, 21)]          0         \n",
      "_________________________________________________________________\n",
      "OutputLayer (Dense)          (None, 21, 10)            220       \n",
      "=================================================================\n",
      "Total params: 220\n",
      "Trainable params: 220\n",
      "Non-trainable params: 0\n",
      "_________________________________________________________________\n"
     ]
    }
   ],
   "source": [
    "# model = get_compiled_model()\n",
    "# model.fit(dataset_train,epochs=10)\n",
    "model = get_compiled_model2()\n",
    "model.summary()"
   ]
  },
  {
   "cell_type": "code",
   "execution_count": 56,
   "id": "d1c318d5",
   "metadata": {
    "scrolled": true
   },
   "outputs": [
    {
     "name": "stdout",
     "output_type": "stream",
     "text": [
      "4/4 [==============================] - 0s 997us/step - loss: -1.5887 - accuracy: 0.0769\n"
     ]
    },
    {
     "data": {
      "text/plain": [
       "[-1.5886683464050293, 0.07692307978868484]"
      ]
     },
     "execution_count": 56,
     "metadata": {},
     "output_type": "execute_result"
    }
   ],
   "source": [
    "model.evaluate(dataset_test)"
   ]
  },
  {
   "cell_type": "code",
   "execution_count": null,
   "id": "507ea770",
   "metadata": {},
   "outputs": [],
   "source": [
    "from tensorflow.keras.utils import plot_model\n",
    "plot_model(model, show_shapes=True)"
   ]
  }
 ],
 "metadata": {
  "kernelspec": {
   "display_name": "Python 3 (ipykernel)",
   "language": "python",
   "name": "python3"
  },
  "language_info": {
   "codemirror_mode": {
    "name": "ipython",
    "version": 3
   },
   "file_extension": ".py",
   "mimetype": "text/x-python",
   "name": "python",
   "nbconvert_exporter": "python",
   "pygments_lexer": "ipython3",
   "version": "3.9.7"
  }
 },
 "nbformat": 4,
 "nbformat_minor": 5
}

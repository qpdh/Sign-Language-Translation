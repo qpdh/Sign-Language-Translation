{
 "cells": [
  {
   "cell_type": "markdown",
   "id": "eb02faa7",
   "metadata": {},
   "source": [
    "# import"
   ]
  },
  {
   "cell_type": "code",
   "execution_count": 1,
   "id": "03cfb4ee",
   "metadata": {},
   "outputs": [],
   "source": [
    "import functools\n",
    "\n",
    "import numpy as np\n",
    "\n",
    "import pandas as pd\n",
    "\n",
    "import tensorflow as tf\n",
    "\n",
    "from sklearn.model_selection import train_test_split"
   ]
  },
  {
   "cell_type": "markdown",
   "id": "6a5ed1b7",
   "metadata": {},
   "source": [
    "# 비율 나누기"
   ]
  },
  {
   "cell_type": "code",
   "execution_count": 29,
   "id": "871a40c2",
   "metadata": {},
   "outputs": [],
   "source": [
    "TRAIN_DATA_URL = 'D:\\GitHub\\Sign-Language-Translation\\output.csv'\n",
    "\n",
    "data = pd.read_csv(TRAIN_DATA_URL)"
   ]
  },
  {
   "cell_type": "markdown",
   "id": "b4d87be3",
   "metadata": {},
   "source": [
    "# 정규화"
   ]
  },
  {
   "cell_type": "markdown",
   "id": "51b15fb4",
   "metadata": {},
   "source": [
    "## 데이터 확인"
   ]
  },
  {
   "cell_type": "code",
   "execution_count": 3,
   "id": "dab85457",
   "metadata": {
    "scrolled": false
   },
   "outputs": [],
   "source": [
    "desc = data['0_x'].describe()"
   ]
  },
  {
   "cell_type": "code",
   "execution_count": 4,
   "id": "b0634ebc",
   "metadata": {},
   "outputs": [
    {
     "name": "stdout",
     "output_type": "stream",
     "text": [
      "0.49587873605861366 0.06815192050462648\n"
     ]
    }
   ],
   "source": [
    "MEAN = np.array(desc.T['mean'])\n",
    "STD = np.array(desc.T['std'])\n",
    "\n",
    "print(MEAN, STD)"
   ]
  },
  {
   "cell_type": "markdown",
   "id": "b2163727",
   "metadata": {},
   "source": [
    "정규화 하기  \n",
    "(X-m)/std"
   ]
  },
  {
   "cell_type": "code",
   "execution_count": 5,
   "id": "bf5fe092",
   "metadata": {},
   "outputs": [],
   "source": [
    "def normalize_numeric_data(data, mean, std):\n",
    "    return (data-mean)/std"
   ]
  },
  {
   "cell_type": "code",
   "execution_count": 6,
   "id": "d1094579",
   "metadata": {
    "scrolled": true
   },
   "outputs": [],
   "source": [
    "# normalizer = functools.partial(normalize_numeric_data, mean=MEAN, std=STD)\n",
    "\n",
    "# numerric_column = tf.feature_column.numeric_column('numeric',normalizer_fn=normalizer, shape=[len(NUMBERIC_FEATURES)])\n",
    "# numeric_columns = [numerric_column]\n",
    "# numeric_column"
   ]
  },
  {
   "cell_type": "code",
   "execution_count": 7,
   "id": "425ba42d",
   "metadata": {
    "scrolled": true
   },
   "outputs": [],
   "source": [
    "numpy_data = np.array(data)"
   ]
  },
  {
   "cell_type": "markdown",
   "id": "e9445e8c",
   "metadata": {},
   "source": [
    "## 훈련 데이터, 테스트 데이터 분리"
   ]
  },
  {
   "cell_type": "code",
   "execution_count": 57,
   "id": "0f6daf72",
   "metadata": {},
   "outputs": [],
   "source": [
    "data_train, data_test = train_test_split(data, \n",
    "                 test_size=1/10,\n",
    "                stratify=data['target'],\n",
    "                random_state=20210918)"
   ]
  },
  {
   "cell_type": "code",
   "execution_count": 9,
   "id": "cf6edf6a",
   "metadata": {
    "scrolled": false
   },
   "outputs": [],
   "source": [
    "# np.unique(data_train['target'],return_counts=True)\n",
    "# np.unique(data_test['target'],return_counts=True)"
   ]
  },
  {
   "cell_type": "markdown",
   "id": "2fe082ef",
   "metadata": {},
   "source": [
    "## 결과값 분리\n",
    "### 타겟 분리\n",
    "### 0번째 열 제거"
   ]
  },
  {
   "cell_type": "code",
   "execution_count": 58,
   "id": "bd0e4a85",
   "metadata": {},
   "outputs": [
    {
     "data": {
      "text/plain": [
       "287    287\n",
       "153    153\n",
       "866    866\n",
       "537    537\n",
       "422    422\n",
       "      ... \n",
       "963    963\n",
       "770    770\n",
       "821    821\n",
       "560    560\n",
       "805    805\n",
       "Name: Unnamed: 0, Length: 109, dtype: int64"
      ]
     },
     "execution_count": 58,
     "metadata": {},
     "output_type": "execute_result"
    }
   ],
   "source": [
    "target_train = data_train.pop('target')\n",
    "target_test = data_test.pop('target')\n",
    "\n",
    "data_train.pop('Unnamed: 0')\n",
    "data_test.pop('Unnamed: 0')"
   ]
  },
  {
   "cell_type": "code",
   "execution_count": 11,
   "id": "9135d414",
   "metadata": {},
   "outputs": [
    {
     "data": {
      "text/plain": [
       "Index(['0_x', '0_y', '0_z', '1_x', '1_y', '1_z', '2_x', '2_y', '2_z', '3_x',\n",
       "       '3_y', '3_z', '4_x', '4_y', '4_z', '5_x', '5_y', '5_z', '6_x', '6_y',\n",
       "       '6_z', '7_x', '7_y', '7_z', '8_x', '8_y', '8_z', '9_x', '9_y', '9_z',\n",
       "       '10_x', '10_y', '10_z', '11_x', '11_y', '11_z', '12_x', '12_y', '12_z',\n",
       "       '13_x', '13_y', '13_z', '14_x', '14_y', '14_z', '15_x', '15_y', '15_z',\n",
       "       '16_x', '16_y', '16_z', '17_x', '17_y', '17_z', '18_x', '18_y', '18_z',\n",
       "       '19_x', '19_y', '19_z', '20_x', '20_y', '20_z'],\n",
       "      dtype='object')"
      ]
     },
     "execution_count": 11,
     "metadata": {},
     "output_type": "execute_result"
    }
   ],
   "source": [
    "data_train.columns"
   ]
  },
  {
   "cell_type": "markdown",
   "id": "661db394",
   "metadata": {},
   "source": [
    "## 데이터셋 생성"
   ]
  },
  {
   "cell_type": "code",
   "execution_count": 33,
   "id": "1e8b0d79",
   "metadata": {},
   "outputs": [],
   "source": [
    "# dataset_train = tf.data.Dataset.from_tensor_slices((data_train.values, target_train.values))\n",
    "# dataset_test = tf.data.Dataset.from_tensor_slices((data_test.values, target_test.values))"
   ]
  },
  {
   "cell_type": "markdown",
   "id": "79245dda",
   "metadata": {},
   "source": [
    "## 데이터 세트 사용하기\n",
    "### 데이터세트 셔플 및 배치"
   ]
  },
  {
   "cell_type": "code",
   "execution_count": 24,
   "id": "6fcb6bc8",
   "metadata": {},
   "outputs": [],
   "source": [
    "# BATCH_SIZE = 100\n",
    "# SUFFLE_BUFFER_SIZE = 1\n",
    "\n",
    "# dataset_train = dataset_train.shuffle(SUFFLE_BUFFER_SIZE).batch(BATCH_SIZE)\n",
    "# dataset_test = dataset_test.shuffle(SUFFLE_BUFFER_SIZE).batch(BATCH_SIZE)"
   ]
  },
  {
   "cell_type": "markdown",
   "id": "05ae363e",
   "metadata": {},
   "source": [
    "# 모델 생성"
   ]
  },
  {
   "cell_type": "code",
   "execution_count": 42,
   "id": "2ecbef88",
   "metadata": {},
   "outputs": [],
   "source": [
    "def get_compiled_model():\n",
    "    model = tf.keras.Sequential([\n",
    "        tf.keras.layers.Dense(10, activation='relu'),\n",
    "        tf.keras.layers.Dense(10, activation='relu'),\n",
    "        tf.keras.layers.Dense(1)\n",
    "    ])\n",
    "\n",
    "    model.compile(optimizer='adam',\n",
    "                 loss=tf.keras.losses.BinaryCrossentropy(from_logits=True),\n",
    "                 metrics=['accuracy'])\n",
    "    return model\n",
    "\n",
    "input_layer = tf.keras.Input(shape=(63,),name=\"InputLayer\")\n",
    "x5 = tf.keras.layers.Dense(10,activation=\"softmax\",name=\"OutputLayer\")(input_layer)\n",
    "\n",
    "def get_compiled_model2():\n",
    "    model = tf.keras.Model(inputs=input_layer,outputs=x5,name=\"FunctionalModel\")\n",
    "    return model"
   ]
  },
  {
   "cell_type": "code",
   "execution_count": 61,
   "id": "75c6ee12",
   "metadata": {
    "collapsed": true
   },
   "outputs": [
    {
     "name": "stdout",
     "output_type": "stream",
     "text": [
      "Model: \"FunctionalModel\"\n",
      "_________________________________________________________________\n",
      "Layer (type)                 Output Shape              Param #   \n",
      "=================================================================\n",
      "InputLayer (InputLayer)      [(None, 63)]              0         \n",
      "_________________________________________________________________\n",
      "OutputLayer (Dense)          (None, 10)                640       \n",
      "=================================================================\n",
      "Total params: 640\n",
      "Trainable params: 640\n",
      "Non-trainable params: 0\n",
      "_________________________________________________________________\n",
      "Epoch 1/100\n",
      "31/31 [==============================] - 0s 565us/step - loss: 1.4004 - accuracy: 0.6708\n",
      "Epoch 2/100\n",
      "31/31 [==============================] - 0s 465us/step - loss: 1.3822 - accuracy: 0.6934\n",
      "Epoch 3/100\n",
      "31/31 [==============================] - 0s 532us/step - loss: 1.3672 - accuracy: 0.6800\n",
      "Epoch 4/100\n",
      "31/31 [==============================] - 0s 499us/step - loss: 1.3550 - accuracy: 0.7099\n",
      "Epoch 5/100\n",
      "31/31 [==============================] - 0s 499us/step - loss: 1.3393 - accuracy: 0.6975\n",
      "Epoch 6/100\n",
      "31/31 [==============================] - 0s 465us/step - loss: 1.3256 - accuracy: 0.6975\n",
      "Epoch 7/100\n",
      "31/31 [==============================] - 0s 565us/step - loss: 1.3133 - accuracy: 0.7160\n",
      "Epoch 8/100\n",
      "31/31 [==============================] - 0s 465us/step - loss: 1.2992 - accuracy: 0.7099\n",
      "Epoch 9/100\n",
      "31/31 [==============================] - 0s 499us/step - loss: 1.2869 - accuracy: 0.7428\n",
      "Epoch 10/100\n",
      "31/31 [==============================] - 0s 465us/step - loss: 1.2733 - accuracy: 0.7356\n",
      "Epoch 11/100\n",
      "31/31 [==============================] - 0s 532us/step - loss: 1.2609 - accuracy: 0.7294\n",
      "Epoch 12/100\n",
      "31/31 [==============================] - 0s 499us/step - loss: 1.2499 - accuracy: 0.7572\n",
      "Epoch 13/100\n",
      "31/31 [==============================] - 0s 599us/step - loss: 1.2401 - accuracy: 0.7212\n",
      "Epoch 14/100\n",
      "31/31 [==============================] - 0s 499us/step - loss: 1.2262 - accuracy: 0.7613\n",
      "Epoch 15/100\n",
      "31/31 [==============================] - 0s 499us/step - loss: 1.2144 - accuracy: 0.7634\n",
      "Epoch 16/100\n",
      "31/31 [==============================] - 0s 532us/step - loss: 1.2035 - accuracy: 0.7531\n",
      "Epoch 17/100\n",
      "31/31 [==============================] - 0s 466us/step - loss: 1.1914 - accuracy: 0.7603\n",
      "Epoch 18/100\n",
      "31/31 [==============================] - 0s 598us/step - loss: 1.1819 - accuracy: 0.7829\n",
      "Epoch 19/100\n",
      "31/31 [==============================] - 0s 532us/step - loss: 1.1724 - accuracy: 0.7695\n",
      "Epoch 20/100\n",
      "31/31 [==============================] - 0s 532us/step - loss: 1.1606 - accuracy: 0.7809\n",
      "Epoch 21/100\n",
      "31/31 [==============================] - 0s 598us/step - loss: 1.1502 - accuracy: 0.7726\n",
      "Epoch 22/100\n",
      "31/31 [==============================] - 0s 499us/step - loss: 1.1403 - accuracy: 0.7860\n",
      "Epoch 23/100\n",
      "31/31 [==============================] - 0s 532us/step - loss: 1.1305 - accuracy: 0.7850\n",
      "Epoch 24/100\n",
      "31/31 [==============================] - 0s 465us/step - loss: 1.1211 - accuracy: 0.7860\n",
      "Epoch 25/100\n",
      "31/31 [==============================] - 0s 532us/step - loss: 1.1117 - accuracy: 0.7881\n",
      "Epoch 26/100\n",
      "31/31 [==============================] - 0s 499us/step - loss: 1.1027 - accuracy: 0.8004\n",
      "Epoch 27/100\n",
      "31/31 [==============================] - 0s 532us/step - loss: 1.0950 - accuracy: 0.7973\n",
      "Epoch 28/100\n",
      "31/31 [==============================] - 0s 499us/step - loss: 1.0852 - accuracy: 0.7860\n",
      "Epoch 29/100\n",
      "31/31 [==============================] - 0s 499us/step - loss: 1.0762 - accuracy: 0.7891\n",
      "Epoch 30/100\n",
      "31/31 [==============================] - 0s 499us/step - loss: 1.0668 - accuracy: 0.7984\n",
      "Epoch 31/100\n",
      "31/31 [==============================] - 0s 565us/step - loss: 1.0585 - accuracy: 0.8045\n",
      "Epoch 32/100\n",
      "31/31 [==============================] - 0s 532us/step - loss: 1.0494 - accuracy: 0.8025\n",
      "Epoch 33/100\n",
      "31/31 [==============================] - 0s 565us/step - loss: 1.0429 - accuracy: 0.8025\n",
      "Epoch 34/100\n",
      "31/31 [==============================] - 0s 532us/step - loss: 1.0333 - accuracy: 0.8086\n",
      "Epoch 35/100\n",
      "31/31 [==============================] - 0s 532us/step - loss: 1.0253 - accuracy: 0.8097\n",
      "Epoch 36/100\n",
      "31/31 [==============================] - 0s 565us/step - loss: 1.0188 - accuracy: 0.8066\n",
      "Epoch 37/100\n",
      "31/31 [==============================] - 0s 499us/step - loss: 1.0095 - accuracy: 0.8138\n",
      "Epoch 38/100\n",
      "31/31 [==============================] - 0s 594us/step - loss: 1.0023 - accuracy: 0.8138\n",
      "Epoch 39/100\n",
      "31/31 [==============================] - 0s 532us/step - loss: 0.9959 - accuracy: 0.8158\n",
      "Epoch 40/100\n",
      "31/31 [==============================] - 0s 532us/step - loss: 0.9884 - accuracy: 0.8189\n",
      "Epoch 41/100\n",
      "31/31 [==============================] - 0s 499us/step - loss: 0.9822 - accuracy: 0.8169\n",
      "Epoch 42/100\n",
      "31/31 [==============================] - 0s 532us/step - loss: 0.9733 - accuracy: 0.8241\n",
      "Epoch 43/100\n",
      "31/31 [==============================] - 0s 532us/step - loss: 0.9653 - accuracy: 0.8344\n",
      "Epoch 44/100\n",
      "31/31 [==============================] - 0s 532us/step - loss: 0.9587 - accuracy: 0.8364\n",
      "Epoch 45/100\n",
      "31/31 [==============================] - 0s 565us/step - loss: 0.9528 - accuracy: 0.8354\n",
      "Epoch 46/100\n",
      "31/31 [==============================] - 0s 465us/step - loss: 0.9448 - accuracy: 0.8292\n",
      "Epoch 47/100\n",
      "31/31 [==============================] - 0s 632us/step - loss: 0.9374 - accuracy: 0.8313\n",
      "Epoch 48/100\n",
      "31/31 [==============================] - 0s 632us/step - loss: 0.9310 - accuracy: 0.8385\n",
      "Epoch 49/100\n",
      "31/31 [==============================] - 0s 532us/step - loss: 0.9250 - accuracy: 0.8426\n",
      "Epoch 50/100\n",
      "31/31 [==============================] - 0s 665us/step - loss: 0.9182 - accuracy: 0.8364\n",
      "Epoch 51/100\n",
      "31/31 [==============================] - 0s 632us/step - loss: 0.9121 - accuracy: 0.8374\n",
      "Epoch 52/100\n",
      "31/31 [==============================] - 0s 632us/step - loss: 0.9051 - accuracy: 0.8457\n",
      "Epoch 53/100\n",
      "31/31 [==============================] - 0s 465us/step - loss: 0.8987 - accuracy: 0.8467\n",
      "Epoch 54/100\n",
      "31/31 [==============================] - 0s 499us/step - loss: 0.8927 - accuracy: 0.8436\n",
      "Epoch 55/100\n",
      "31/31 [==============================] - 0s 532us/step - loss: 0.8869 - accuracy: 0.8426\n",
      "Epoch 56/100\n",
      "31/31 [==============================] - 0s 532us/step - loss: 0.8816 - accuracy: 0.8457\n",
      "Epoch 57/100\n",
      "31/31 [==============================] - 0s 598us/step - loss: 0.8754 - accuracy: 0.8405\n",
      "Epoch 58/100\n",
      "31/31 [==============================] - 0s 499us/step - loss: 0.8689 - accuracy: 0.8488\n",
      "Epoch 59/100\n",
      "31/31 [==============================] - 0s 565us/step - loss: 0.8630 - accuracy: 0.8529\n",
      "Epoch 60/100\n",
      "31/31 [==============================] - 0s 532us/step - loss: 0.8580 - accuracy: 0.8519\n",
      "Epoch 61/100\n",
      "31/31 [==============================] - 0s 532us/step - loss: 0.8518 - accuracy: 0.8508\n",
      "Epoch 62/100\n",
      "31/31 [==============================] - 0s 532us/step - loss: 0.8468 - accuracy: 0.8570\n",
      "Epoch 63/100\n",
      "31/31 [==============================] - 0s 532us/step - loss: 0.8410 - accuracy: 0.8519\n",
      "Epoch 64/100\n",
      "31/31 [==============================] - 0s 655us/step - loss: 0.8350 - accuracy: 0.8560\n",
      "Epoch 65/100\n",
      "31/31 [==============================] - 0s 598us/step - loss: 0.8297 - accuracy: 0.8560\n",
      "Epoch 66/100\n",
      "31/31 [==============================] - 0s 632us/step - loss: 0.8248 - accuracy: 0.8560\n",
      "Epoch 67/100\n",
      "31/31 [==============================] - 0s 598us/step - loss: 0.8192 - accuracy: 0.8591\n",
      "Epoch 68/100\n",
      "31/31 [==============================] - 0s 565us/step - loss: 0.8147 - accuracy: 0.8560\n",
      "Epoch 69/100\n",
      "31/31 [==============================] - 0s 598us/step - loss: 0.8086 - accuracy: 0.8570\n",
      "Epoch 70/100\n",
      "31/31 [==============================] - 0s 499us/step - loss: 0.8042 - accuracy: 0.8611\n",
      "Epoch 71/100\n",
      "31/31 [==============================] - 0s 532us/step - loss: 0.7989 - accuracy: 0.8683\n",
      "Epoch 72/100\n",
      "31/31 [==============================] - 0s 565us/step - loss: 0.7937 - accuracy: 0.8663\n",
      "Epoch 73/100\n",
      "31/31 [==============================] - 0s 499us/step - loss: 0.7891 - accuracy: 0.8683\n",
      "Epoch 74/100\n",
      "31/31 [==============================] - 0s 500us/step - loss: 0.7845 - accuracy: 0.8673\n",
      "Epoch 75/100\n"
     ]
    },
    {
     "name": "stdout",
     "output_type": "stream",
     "text": [
      "31/31 [==============================] - 0s 499us/step - loss: 0.7789 - accuracy: 0.8683\n",
      "Epoch 76/100\n",
      "31/31 [==============================] - 0s 499us/step - loss: 0.7749 - accuracy: 0.8693\n",
      "Epoch 77/100\n",
      "31/31 [==============================] - 0s 465us/step - loss: 0.7701 - accuracy: 0.8693\n",
      "Epoch 78/100\n",
      "31/31 [==============================] - 0s 465us/step - loss: 0.7649 - accuracy: 0.8714\n",
      "Epoch 79/100\n",
      "31/31 [==============================] - 0s 499us/step - loss: 0.7617 - accuracy: 0.8714\n",
      "Epoch 80/100\n",
      "31/31 [==============================] - 0s 492us/step - loss: 0.7561 - accuracy: 0.8683\n",
      "Epoch 81/100\n",
      "31/31 [==============================] - 0s 499us/step - loss: 0.7517 - accuracy: 0.8745\n",
      "Epoch 82/100\n",
      "31/31 [==============================] - 0s 499us/step - loss: 0.7479 - accuracy: 0.8704\n",
      "Epoch 83/100\n",
      "31/31 [==============================] - 0s 465us/step - loss: 0.7427 - accuracy: 0.8765\n",
      "Epoch 84/100\n",
      "31/31 [==============================] - 0s 499us/step - loss: 0.7383 - accuracy: 0.8848\n",
      "Epoch 85/100\n",
      "31/31 [==============================] - 0s 465us/step - loss: 0.7343 - accuracy: 0.8776\n",
      "Epoch 86/100\n",
      "31/31 [==============================] - 0s 499us/step - loss: 0.7319 - accuracy: 0.8765\n",
      "Epoch 87/100\n",
      "31/31 [==============================] - 0s 465us/step - loss: 0.7260 - accuracy: 0.8807\n",
      "Epoch 88/100\n",
      "31/31 [==============================] - 0s 465us/step - loss: 0.7220 - accuracy: 0.8837\n",
      "Epoch 89/100\n",
      "31/31 [==============================] - 0s 465us/step - loss: 0.7175 - accuracy: 0.8848\n",
      "Epoch 90/100\n",
      "31/31 [==============================] - 0s 565us/step - loss: 0.7137 - accuracy: 0.8817\n",
      "Epoch 91/100\n",
      "31/31 [==============================] - 0s 632us/step - loss: 0.7099 - accuracy: 0.8868\n",
      "Epoch 92/100\n",
      "31/31 [==============================] - 0s 565us/step - loss: 0.7063 - accuracy: 0.8827\n",
      "Epoch 93/100\n",
      "31/31 [==============================] - 0s 565us/step - loss: 0.7017 - accuracy: 0.8858\n",
      "Epoch 94/100\n",
      "31/31 [==============================] - 0s 499us/step - loss: 0.6972 - accuracy: 0.8889\n",
      "Epoch 95/100\n",
      "31/31 [==============================] - 0s 532us/step - loss: 0.6940 - accuracy: 0.8899\n",
      "Epoch 96/100\n",
      "31/31 [==============================] - 0s 499us/step - loss: 0.6898 - accuracy: 0.8889\n",
      "Epoch 97/100\n",
      "31/31 [==============================] - 0s 532us/step - loss: 0.6862 - accuracy: 0.8899\n",
      "Epoch 98/100\n",
      "31/31 [==============================] - 0s 499us/step - loss: 0.6832 - accuracy: 0.8889\n",
      "Epoch 99/100\n",
      "31/31 [==============================] - 0s 532us/step - loss: 0.6796 - accuracy: 0.8868\n",
      "Epoch 100/100\n",
      "31/31 [==============================] - 0s 465us/step - loss: 0.6748 - accuracy: 0.8879\n"
     ]
    },
    {
     "data": {
      "text/plain": [
       "<keras.callbacks.History at 0x2a1123db460>"
      ]
     },
     "execution_count": 61,
     "metadata": {},
     "output_type": "execute_result"
    }
   ],
   "source": [
    "# model = get_compiled_model()\n",
    "# model.fit(dataset_train,epochs=10)\n",
    "model = get_compiled_model2()\n",
    "model.summary()\n",
    "\n",
    "model.compile(optimizer=tf.optimizers.Adam(),\n",
    "              loss='sparse_categorical_crossentropy',\n",
    "              metrics=['accuracy'])\n",
    "\n",
    "\n",
    "#(x_train, y_train),(x_test,y_test)=tf.keras.datasets.mnist.load_data()\n",
    "\n",
    "model.fit(np.array(data_train),np.array(target_train), epochs=100)"
   ]
  },
  {
   "cell_type": "code",
   "execution_count": 62,
   "id": "cf86a329",
   "metadata": {
    "scrolled": false
   },
   "outputs": [
    {
     "name": "stdout",
     "output_type": "stream",
     "text": [
      "4/4 [==============================] - 0s 656us/step - loss: 0.6934 - accuracy: 0.8716\n"
     ]
    },
    {
     "data": {
      "text/plain": [
       "[0.6933507919311523, 0.8715596199035645]"
      ]
     },
     "execution_count": 62,
     "metadata": {},
     "output_type": "execute_result"
    }
   ],
   "source": [
    "model.evaluate(np.array(data_test),np.array(target_test))"
   ]
  },
  {
   "cell_type": "code",
   "execution_count": 68,
   "id": "de278c27",
   "metadata": {},
   "outputs": [
    {
     "name": "stderr",
     "output_type": "stream",
     "text": [
      "WARNING:absl:Function `_wrapped_model` contains input name(s) InputLayer with unsupported characters which will be renamed to inputlayer in the SavedModel.\n"
     ]
    },
    {
     "name": "stdout",
     "output_type": "stream",
     "text": [
      "INFO:tensorflow:Assets written to: OutputModel\\assets\n"
     ]
    },
    {
     "name": "stderr",
     "output_type": "stream",
     "text": [
      "INFO:tensorflow:Assets written to: OutputModel\\assets\n"
     ]
    }
   ],
   "source": [
    "model.save('OutputModel')"
   ]
  },
  {
   "cell_type": "code",
   "execution_count": 69,
   "id": "68b5f00f",
   "metadata": {},
   "outputs": [
    {
     "data": {
      "text/plain": [
       "3704"
      ]
     },
     "execution_count": 69,
     "metadata": {},
     "output_type": "execute_result"
    }
   ],
   "source": [
    "converter = tf.lite.TFLiteConverter.from_saved_model('./OutputModel')\n",
    "tflite_model = converter.convert()\n",
    "open(\"converted_model.tflite\",\"wb\").write(tflite_model)"
   ]
  },
  {
   "cell_type": "code",
   "execution_count": 17,
   "id": "507ea770",
   "metadata": {
    "scrolled": true
   },
   "outputs": [
    {
     "name": "stdout",
     "output_type": "stream",
     "text": [
      "('You must install pydot (`pip install pydot`) and install graphviz (see instructions at https://graphviz.gitlab.io/download/) ', 'for plot_model/model_to_dot to work.')\n"
     ]
    }
   ],
   "source": [
    "from tensorflow.keras.utils import plot_model\n",
    "plot_model(model, show_shapes=True)"
   ]
  },
  {
   "cell_type": "code",
   "execution_count": 72,
   "id": "6af8476b",
   "metadata": {},
   "outputs": [
    {
     "name": "stdout",
     "output_type": "stream",
     "text": [
      "           0_x       0_y  0_z       1_x       1_y       1_z       2_x  \\\n",
      "414   0.498810  0.799274  0.0  0.418170  0.745638 -0.042449  0.402205   \n",
      "435   0.549224  0.893666  0.0  0.422273  0.844523 -0.081362  0.396557   \n",
      "344   0.471512  0.917300  0.0  0.367416  0.879058 -0.086193  0.275343   \n",
      "506   0.497454  0.864216  0.0  0.384569  0.826491 -0.058535  0.304175   \n",
      "933   0.440205  0.911193  0.0  0.344269  0.860686 -0.093136  0.249733   \n",
      "...        ...       ...  ...       ...       ...       ...       ...   \n",
      "539   0.525886  0.848951  0.0  0.415312  0.811275 -0.025560  0.343351   \n",
      "163   0.605530  0.806795  0.0  0.491005  0.743679 -0.051927  0.409193   \n",
      "694   0.520574  0.902923  0.0  0.380929  0.829212 -0.059695  0.290396   \n",
      "1048  0.464180  0.900967  0.0  0.353290  0.852442 -0.082019  0.247892   \n",
      "55    0.700065  0.781349  0.0  0.547053  0.667307  0.078315  0.468202   \n",
      "\n",
      "           2_y       2_z       3_x  ...      17_z      18_x      18_y  \\\n",
      "414   0.621958 -0.064555  0.465032  ... -0.094111  0.723858  0.553512   \n",
      "435   0.717910 -0.126697  0.514095  ... -0.162040  0.780051  0.489383   \n",
      "344   0.740765 -0.135875  0.205938  ... -0.152672  0.653219  0.732899   \n",
      "506   0.714262 -0.101490  0.249712  ... -0.134839  0.699572  0.467867   \n",
      "933   0.731600 -0.151044  0.219351  ... -0.132374  0.669286  0.559468   \n",
      "...        ...       ...       ...  ...       ...       ...       ...   \n",
      "539   0.714849 -0.039036  0.305914  ... -0.083285  0.675762  0.538469   \n",
      "163   0.595735 -0.073862  0.443623  ...  0.002067  0.775498  0.476858   \n",
      "694   0.683366 -0.093234  0.230928  ... -0.108005  0.802792  0.523922   \n",
      "1048  0.750129 -0.130784  0.222641  ... -0.109033  0.668853  0.530183   \n",
      "55    0.535798  0.083908  0.390411  ... -0.149420  0.514069  0.343941   \n",
      "\n",
      "          18_z      19_x      19_y      19_z      20_x      20_y      20_z  \n",
      "414  -0.129520  0.767061  0.499058 -0.151156  0.800898  0.449366 -0.165824  \n",
      "435  -0.214847  0.810263  0.393750 -0.245318  0.829384  0.309159 -0.266098  \n",
      "344  -0.230704  0.606741  0.812890 -0.243060  0.565827  0.862783 -0.234449  \n",
      "506  -0.185691  0.722428  0.380216 -0.217271  0.734969  0.301956 -0.240455  \n",
      "933  -0.174988  0.694595  0.481754 -0.191079  0.709936  0.410580 -0.201266  \n",
      "...        ...       ...       ...       ...       ...       ...       ...  \n",
      "539  -0.122001  0.691172  0.479205 -0.143504  0.701938  0.424572 -0.156477  \n",
      "163  -0.013444  0.768410  0.477185 -0.010951  0.750738  0.503432 -0.003097  \n",
      "694  -0.153876  0.840428  0.443641 -0.184166  0.867924  0.370048 -0.204681  \n",
      "1048 -0.151475  0.702751  0.457454 -0.175151  0.723774  0.390062 -0.190654  \n",
      "55   -0.152553  0.418950  0.363922 -0.126256  0.375081  0.404946 -0.106052  \n",
      "\n",
      "[972 rows x 63 columns]\n"
     ]
    }
   ],
   "source": [
    "print(data_train)"
   ]
  }
 ],
 "metadata": {
  "kernelspec": {
   "display_name": "Python 3 (ipykernel)",
   "language": "python",
   "name": "python3"
  },
  "language_info": {
   "codemirror_mode": {
    "name": "ipython",
    "version": 3
   },
   "file_extension": ".py",
   "mimetype": "text/x-python",
   "name": "python",
   "nbconvert_exporter": "python",
   "pygments_lexer": "ipython3",
   "version": "3.9.7"
  }
 },
 "nbformat": 4,
 "nbformat_minor": 5
}

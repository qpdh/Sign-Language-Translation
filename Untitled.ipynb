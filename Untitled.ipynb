{
 "cells": [
  {
   "cell_type": "markdown",
   "id": "8fe19de2",
   "metadata": {},
   "source": [
    "# 폴더 내 모든 json 파일을 읽어와서 데이터화 하기"
   ]
  },
  {
   "cell_type": "code",
   "execution_count": 2,
   "id": "400936ac",
   "metadata": {},
   "outputs": [],
   "source": [
    "import json"
   ]
  },
  {
   "cell_type": "code",
   "execution_count": 15,
   "id": "a0202555",
   "metadata": {},
   "outputs": [],
   "source": [
    "with open('NIA_SL_SEN0001_REAL01_D_000000000000_keypoints.json','r') as f:\n",
    "    json_object = json.load(f)"
   ]
  },
  {
   "cell_type": "code",
   "execution_count": 17,
   "id": "bfae1ee2",
   "metadata": {},
   "outputs": [],
   "source": [
    "a = json_object['people']\n",
    "b = a['hand_left_keypoints_3d']"
   ]
  },
  {
   "cell_type": "code",
   "execution_count": 18,
   "id": "371fc5b1",
   "metadata": {
    "scrolled": true
   },
   "outputs": [
    {
     "name": "stdout",
     "output_type": "stream",
     "text": [
      "[167.7057157482, 300.5910544976, 2373.4162925147, 143.5121828093, 321.4131021247, 2362.686444827, 126.8722096754, 354.6256095032, 2343.6475963499, 125.8259531386, 388.9476364567, 2339.6469583896, 126.6311253166, 413.1332055384, 2338.0533935439, 159.4706296481, 373.5841425621, 2328.5423623108, 149.9037528013, 412.5148404892, 2325.6246825585, 137.3984979933, 432.0053838282, 2330.7463318478, 127.2663359974, 445.9684548045, 2333.4132869817, 175.7300066345, 376.0532434193, 2339.8800190847, 163.8091893249, 414.923541804, 2341.1915812972, 148.2763517864, 432.8807644798, 2353.5174173892, 135.2529081039, 446.1192546434, 2367.9517210119, 185.3952205094, 374.6848602648, 2353.4686552086, 175.0876676688, 407.5046624086, 2353.9561611968, 159.9143277622, 426.1619372968, 2372.7663235922, 144.8074849232, 435.4617103228, 2382.2317357743, 190.0271644087, 371.0292107731, 2368.2148364896, 183.2533022387, 399.5745176016, 2370.4323020577, 169.4410803538, 411.2717334891, 2371.8587572665, 162.2152280413, 420.4119484558, 2381.1633047823]\n"
     ]
    }
   ],
   "source": [
    "print(b)"
   ]
  },
  {
   "cell_type": "code",
   "execution_count": null,
   "id": "a55924f8",
   "metadata": {},
   "outputs": [],
   "source": [
    "import re\n",
    "import os\n",
    "import json\n",
    "import numpy as np\n",
    "import pandas as pd\n",
    "\n",
    "path_dir=\"C:/Users/nerb0/python/labeling/keypoint/\"\n",
    "os.makedirs(\"C:/Users/nerb0/python/ext/keypoint/\")\n",
    "path_ext = \"C:/Users/nerb0/python/ext/keypoint/\"\n",
    "\n",
    "for i in range(30):\n",
    "    for j in ['D', 'F', 'L', 'R', 'U']:\n",
    "        path_dir = path_dir + 'NIA_SL_SEN' + str(i+1).zfill(4) + '_REAL01_' + j + '/'\n",
    "        path_ext = path_ext + 'NIA_SL_SEN' + str(i+1).zfill(4) + '_REAL01_' + j + '/'\n",
    "        os.makedirs(path_ext, exist_ok=True)\n",
    "        #파일 불러오기\n",
    "        file_list = os.listdir(path_dir)\n",
    "        file_list_json = [file for file in file_list if file.endswith('.json')]\n",
    "\n",
    "        for files in file_list_json:\n",
    "            with open(path_dir+files, \"r\") as f:\n",
    "                contents = json.loads(f.read())\n",
    "                \n",
    "            #가공\n",
    "            df = pd.DataFrame(contents)\n",
    "            df_one = pd.DataFrame(df.people)\n",
    "            a = df_one.loc['hand_left_keypoints_3d'].people\n",
    "            while 1 in a:\n",
    "                a.remove(1)\n",
    "            df_one.loc['hand_left_keypoints_3d'].people = a\n",
    "            df_one\n",
    "            df_ext = df_one.loc[['hand_left_keypoints_3d', 'hand_right_keypoints_3d'], :]\n",
    "            df_ext\n",
    "\n",
    "            #추출\n",
    "\n",
    "            df_ext.to_json(path_ext+files)\n",
    "        print(path_ext+\": extracted\")\n",
    "        path_dir=\"C:/Users/nerb0/python/labeling/keypoint/\"\n",
    "        path_ext = \"C:/Users/nerb0/python/ext/keypoint/\"\n",
    "    "
   ]
  }
 ],
 "metadata": {
  "kernelspec": {
   "display_name": "Python 3 (ipykernel)",
   "language": "python",
   "name": "python3"
  },
  "language_info": {
   "codemirror_mode": {
    "name": "ipython",
    "version": 3
   },
   "file_extension": ".py",
   "mimetype": "text/x-python",
   "name": "python",
   "nbconvert_exporter": "python",
   "pygments_lexer": "ipython3",
   "version": "3.9.7"
  }
 },
 "nbformat": 4,
 "nbformat_minor": 5
}
